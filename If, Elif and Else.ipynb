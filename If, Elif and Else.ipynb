{
 "cells": [
  {
   "cell_type": "code",
   "execution_count": 12,
   "metadata": {},
   "outputs": [
    {
     "name": "stdout",
     "output_type": "stream",
     "text": [
      "Even\n",
      "Great\n",
      "Bye\n"
     ]
    }
   ],
   "source": [
    "x = 8\n",
    "r = x % 2\n",
    "\n",
    "if r==0:\n",
    "    print('Even')\n",
    "    if x>5:\n",
    "        print('Great')\n",
    "    else:\n",
    "        print('not so great')\n",
    "    \n",
    "else:\n",
    "    print('Odd')\n",
    "\n",
    "print('Bye')"
   ]
  },
  {
   "cell_type": "code",
   "execution_count": 24,
   "metadata": {},
   "outputs": [
    {
     "name": "stdout",
     "output_type": "stream",
     "text": [
      "Wrong Input\n"
     ]
    }
   ],
   "source": [
    "x = 5\n",
    "\n",
    "if x==1:\n",
    "    print(\"One\")\n",
    "    \n",
    "elif (x==2):\n",
    "    print(\"Two\")\n",
    "    \n",
    "elif (x==3):\n",
    "    print(\"Three\")\n",
    "    \n",
    "elif (x==4):\n",
    "    print(\"Four\")\n",
    "\n",
    "else:\n",
    "    print(\"Wrong Input\")"
   ]
  },
  {
   "cell_type": "code",
   "execution_count": null,
   "metadata": {},
   "outputs": [],
   "source": []
  }
 ],
 "metadata": {
  "kernelspec": {
   "display_name": "Python 3",
   "language": "python",
   "name": "python3"
  },
  "language_info": {
   "codemirror_mode": {
    "name": "ipython",
    "version": 3
   },
   "file_extension": ".py",
   "mimetype": "text/x-python",
   "name": "python",
   "nbconvert_exporter": "python",
   "pygments_lexer": "ipython3",
   "version": "3.7.4"
  }
 },
 "nbformat": 4,
 "nbformat_minor": 2
}
