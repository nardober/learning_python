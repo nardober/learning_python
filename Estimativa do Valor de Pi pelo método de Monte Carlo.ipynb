{
 "cells": [
  {
   "cell_type": "code",
   "execution_count": null,
   "metadata": {},
   "outputs": [],
   "source": [
    "# A_circ = pi(r)2\n",
    "# A_quad = L2 -> A_quad = (2r)2 = 4r2\n",
    "# A_circ / A_quad = pi(r)2 / 4(r)2 -> ValorPi = 4(A_circ / A_quad)\n",
    "\n",
    "# Obs.: O valor de Pi depende da área da circunferência e a área da \n",
    "# circunferência depende do valor de Pi - CÍRCULO VICIOSO - "
   ]
  },
  {
   "cell_type": "code",
   "execution_count": null,
   "metadata": {},
   "outputs": [],
   "source": [
    "# MÉTODO DE MONTE CARLO\n",
    "# Programação Paralela: Bag of Task.\n",
    "# Distribuição de números aleatórios para estimar um parâmetro de interesse\n",
    "\n",
    "# Através de uma função Randomica, sortea-se números aleatórios dentro do quadrado\n",
    "# dessa forma o número de iterações é determinada pelo programador.\n",
    "# O processamento das iterações ocorre de forma idependente."
   ]
  },
  {
   "cell_type": "code",
   "execution_count": 10,
   "metadata": {},
   "outputs": [],
   "source": [
    "# Diminuindo o raio da circunferência infinitamente, observa-se que o \n",
    "# número de pontos contido na circunferência é proporcional a área da circunferência\n",
    "# E o número de pontos contido no quadrado é proporcional a área do quadrado\n",
    "\n",
    "# (N_circ/N_quad) / (A_circ/A_quad)\n"
   ]
  },
  {
   "cell_type": "code",
   "execution_count": 11,
   "metadata": {},
   "outputs": [],
   "source": [
    "# Necessário adotar um sistema de Coordenadas Cartesianas\n",
    "# Sortear pares de números aleatórios (Coordenadas)"
   ]
  },
  {
   "cell_type": "code",
   "execution_count": 12,
   "metadata": {},
   "outputs": [],
   "source": [
    "# Para tornar o cálculo simples, adotaremos o intervalo entre [0,1].\n",
    "# Sorteando números randômicos no intervalo derterminado, alguns pontos\n",
    "# estarão fora da circunferência e outros estarão dentro"
   ]
  },
  {
   "cell_type": "code",
   "execution_count": 14,
   "metadata": {},
   "outputs": [],
   "source": [
    "# Como determinar quais pontos estão dentro?\n",
    "# Determinar quais pontos estão dentro?\n",
    "# Necessitaremos do cálculo da distância entre dois pontos\n",
    "# Cálculo da distância Euclidiana:\n",
    "# dada pela hipotenusa de um triangulo retângulo, aonde:\n",
    "# os catetos são DeltaX e Delta Y\n",
    "# dx = xA-0.5 e dY = YA-0.5 :. d(A,0) = raiz[(dx)2+(dy)2]"
   ]
  },
  {
   "cell_type": "code",
   "execution_count": 16,
   "metadata": {},
   "outputs": [],
   "source": [
    "# Como determinar quais pontos estão dentro?\n",
    "# Se d(A,0)<0.5 -> :. Ponto está contido! "
   ]
  },
  {
   "cell_type": "code",
   "execution_count": 17,
   "metadata": {},
   "outputs": [],
   "source": [
    "import math\n",
    "import random"
   ]
  },
  {
   "cell_type": "code",
   "execution_count": 23,
   "metadata": {},
   "outputs": [
    {
     "name": "stdout",
     "output_type": "stream",
     "text": [
      "O valor de pi é aproximadamente 3.141\n"
     ]
    }
   ],
   "source": [
    "# Declaração dos parametro\n",
    "Npontos_quad = 1000000 # Característica Bag-of-task\n",
    "Npontos_circ = 0\n",
    "\n",
    "acumulador = 1\n",
    "while acumulador <= Npontos_quad:\n",
    "    Px = random.random()\n",
    "    Py = random.random()\n",
    "    deltaX = math.pow((Px-0.5),2)\n",
    "    deltaY = math.pow((Py-0.5),2)\n",
    "    DistE = math.sqrt(deltaX+deltaY)\n",
    "    if DistE < 0.5:\n",
    "        Npontos_circ = Npontos_circ + 1\n",
    "    acumulador = acumulador + 1\n",
    "ValorPi = 4*(float(Npontos_circ))/(float(Npontos_quad))\n",
    "             \n",
    "print(\"O valor de pi é aproximadamente %.3f\" %ValorPi)"
   ]
  },
  {
   "cell_type": "code",
   "execution_count": null,
   "metadata": {},
   "outputs": [],
   "source": []
  }
 ],
 "metadata": {
  "kernelspec": {
   "display_name": "Python 3",
   "language": "python",
   "name": "python3"
  },
  "language_info": {
   "codemirror_mode": {
    "name": "ipython",
    "version": 3
   },
   "file_extension": ".py",
   "mimetype": "text/x-python",
   "name": "python",
   "nbconvert_exporter": "python",
   "pygments_lexer": "ipython3",
   "version": "3.7.4"
  }
 },
 "nbformat": 4,
 "nbformat_minor": 2
}
