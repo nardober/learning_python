{
 "cells": [
  {
   "cell_type": "code",
   "execution_count": 35,
   "metadata": {},
   "outputs": [
    {
     "name": "stdout",
     "output_type": "stream",
     "text": [
      "helloRockRockRockRockRock\n",
      "helloRockRockRockRockRock\n",
      "helloRockRockRockRockRock\n",
      "helloRockRockRockRockRock\n",
      "helloRockRockRockRockRock\n"
     ]
    }
   ],
   "source": [
    "i = 1\n",
    "while i <= 5 :\n",
    "    print(\"hello\", end=\"\")\n",
    "    \n",
    "    j = 1\n",
    "    while j <= 5:\n",
    "        print(\"Rock\", end=\"\")\n",
    "        j = j + 1\n",
    "        \n",
    "    i = i + 1\n",
    "    print()"
   ]
  },
  {
   "cell_type": "code",
   "execution_count": null,
   "metadata": {},
   "outputs": [],
   "source": []
  }
 ],
 "metadata": {
  "kernelspec": {
   "display_name": "Python 3",
   "language": "python",
   "name": "python3"
  },
  "language_info": {
   "codemirror_mode": {
    "name": "ipython",
    "version": 3
   },
   "file_extension": ".py",
   "mimetype": "text/x-python",
   "name": "python",
   "nbconvert_exporter": "python",
   "pygments_lexer": "ipython3",
   "version": "3.7.4"
  }
 },
 "nbformat": 4,
 "nbformat_minor": 2
}
