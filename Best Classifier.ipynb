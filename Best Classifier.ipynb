{
 "cells": [
  {
   "cell_type": "code",
   "execution_count": 15,
   "metadata": {},
   "outputs": [],
   "source": [
    "from sklearn import tree\n",
    "from sklearn.svm import SVC\n",
    "from sklearn.linear_model import Perceptron\n",
    "from sklearn.neighbors import KNeighborsClassifier\n",
    "from sklearn.metrics import accuracy_score\n",
    "import numpy as np"
   ]
  },
  {
   "cell_type": "code",
   "execution_count": 16,
   "metadata": {},
   "outputs": [],
   "source": [
    "X = [[181, 80, 44], [177, 70, 43], [160, 60, 38], [154, 54, 37], [166, 65, 40], [190, 90, 47], [175, 64, 39],\n",
    "     [177, 70, 40], [159, 55, 37], [171, 75, 42], [181, 85, 43]]"
   ]
  },
  {
   "cell_type": "code",
   "execution_count": 17,
   "metadata": {},
   "outputs": [],
   "source": [
    "Y = ['male', 'male', 'female', 'female', 'male', 'male', 'female', 'female', 'female', 'male', 'male']"
   ]
  },
  {
   "cell_type": "code",
   "execution_count": 18,
   "metadata": {},
   "outputs": [],
   "source": [
    "# Classifiers\n",
    "# Using the default values for all the hyperparameters\n",
    "\n",
    "clf_tree = tree.DecisionTreeClassifier()\n",
    "clf_svm = SVC()\n",
    "clf_perceptron = Perceptron()\n",
    "clf_KNN = KNeighborsClassifier()"
   ]
  },
  {
   "cell_type": "code",
   "execution_count": 19,
   "metadata": {},
   "outputs": [
    {
     "name": "stderr",
     "output_type": "stream",
     "text": [
      "C:\\Users\\u3ht\\AppData\\Local\\Continuum\\anaconda3\\lib\\site-packages\\sklearn\\svm\\base.py:193: FutureWarning: The default value of gamma will change from 'auto' to 'scale' in version 0.22 to account better for unscaled features. Set gamma explicitly to 'auto' or 'scale' to avoid this warning.\n",
      "  \"avoid this warning.\", FutureWarning)\n"
     ]
    },
    {
     "data": {
      "text/plain": [
       "KNeighborsClassifier(algorithm='auto', leaf_size=30, metric='minkowski',\n",
       "                     metric_params=None, n_jobs=None, n_neighbors=5, p=2,\n",
       "                     weights='uniform')"
      ]
     },
     "execution_count": 19,
     "metadata": {},
     "output_type": "execute_result"
    }
   ],
   "source": [
    "# Training the models\n",
    "\n",
    "clf_tree.fit(X,Y)\n",
    "clf_svm.fit(X,Y)\n",
    "clf_perceptron.fit(X,Y)\n",
    "clf_KNN.fit(X,Y)"
   ]
  },
  {
   "cell_type": "code",
   "execution_count": 31,
   "metadata": {},
   "outputs": [
    {
     "name": "stdout",
     "output_type": "stream",
     "text": [
      "Accuracy for DecisionTree: 100.0\n",
      "Accuracy for SVM: 100.0\n",
      "Acuracy for Perceptron: 45.45454545454545\n",
      "Accuracy for KNN: 72.72727272727273\n"
     ]
    }
   ],
   "source": [
    "# Testing using the same data\n",
    "\n",
    "pred_tree = clf_tree.predict(X)\n",
    "acc_tree = accuracy_score(Y, pred_tree)*100\n",
    "print('Accuracy for DecisionTree: {}'.format(acc_tree))\n",
    "pred_svm = clf_svm.predict(X)\n",
    "acc_svm = accuracy_score(Y, pred_svm)*100\n",
    "print('Accuracy for SVM: {}'.format(acc_svm))\n",
    "pred_per = clf_perceptron.predict(X)\n",
    "acc_pre = accuracy_score(Y, pred_per)*100\n",
    "print('Acuracy for Perceptron: {}'.format(acc_pred))\n",
    "pred_KNN = clf_KNN.predict(X)\n",
    "acc_KNN = accuracy_score(Y, pred_KNN)*100\n",
    "print('Accuracy for KNN: {}'.format(acc_KNN))"
   ]
  },
  {
   "cell_type": "code",
   "execution_count": 35,
   "metadata": {},
   "outputs": [
    {
     "name": "stdout",
     "output_type": "stream",
     "text": [
      "Best gender classifier is SVM\n"
     ]
    }
   ],
   "source": [
    "# The best classifier from SVM, Per, KNN\n",
    "\n",
    "index = np.argmax([acc_svm, acc_pred, acc_KNN])\n",
    "classifiers = {0:'SVM', 1:'Perceptron', 2:'KNN'}\n",
    "print('Best gender classifier is {}'.format(classifiers[index]))"
   ]
  }
 ],
 "metadata": {
  "kernelspec": {
   "display_name": "Python 3",
   "language": "python",
   "name": "python3"
  },
  "language_info": {
   "codemirror_mode": {
    "name": "ipython",
    "version": 3
   },
   "file_extension": ".py",
   "mimetype": "text/x-python",
   "name": "python",
   "nbconvert_exporter": "python",
   "pygments_lexer": "ipython3",
   "version": "3.7.4"
  }
 },
 "nbformat": 4,
 "nbformat_minor": 2
}
